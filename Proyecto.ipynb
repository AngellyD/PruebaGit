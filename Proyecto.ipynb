{
 "cells": [
  {
   "cell_type": "code",
   "execution_count": 5,
   "id": "655f8a1c",
   "metadata": {},
   "outputs": [],
   "source": [
    "import matplotlib.pyplot as plt"
   ]
  },
  {
   "cell_type": "markdown",
   "id": "759fc1fa",
   "metadata": {},
   "source": [
    "Este es mi primer proyecto en GIT"
   ]
  },
  {
   "cell_type": "code",
   "execution_count": 6,
   "id": "a9a74706",
   "metadata": {},
   "outputs": [
    {
     "name": "stdout",
     "output_type": "stream",
     "text": [
      "¡Hola, Max! Bienvenido/a al sistema.\n"
     ]
    }
   ],
   "source": [
    "def generar_mensaje(nombre):\n",
    "    mensaje = f\"¡Hola, {nombre}! Bienvenido/a al sistema.\"\n",
    "    return mensaje\n",
    "\n",
    "# Puedes probarlo con tu nombre u otro\n",
    "nombre_usuario = input(\"Ingresa tu nombre: \")\n",
    "print(generar_mensaje(nombre_usuario))"
   ]
  }
 ],
 "metadata": {
  "kernelspec": {
   "display_name": "venv",
   "language": "python",
   "name": "python3"
  },
  "language_info": {
   "codemirror_mode": {
    "name": "ipython",
    "version": 3
   },
   "file_extension": ".py",
   "mimetype": "text/x-python",
   "name": "python",
   "nbconvert_exporter": "python",
   "pygments_lexer": "ipython3",
   "version": "3.13.7"
  }
 },
 "nbformat": 4,
 "nbformat_minor": 5
}
